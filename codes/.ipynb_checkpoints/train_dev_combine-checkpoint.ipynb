{
 "cells": [
  {
   "cell_type": "code",
   "execution_count": 1,
   "metadata": {},
   "outputs": [],
   "source": [
    "import os\n",
    "import PIL\n",
    "from PIL import Image\n",
    "import numpy as np\n",
    "import pandas as pd\n",
    "import matplotlib.pyplot as plt\n",
    "import matplotlib.image as mpimg"
   ]
  },
  {
   "cell_type": "code",
   "execution_count": 2,
   "metadata": {},
   "outputs": [
    {
     "data": {
      "text/plain": [
       "'/home/saquib/Documents/LipNet/codes'"
      ]
     },
     "execution_count": 2,
     "metadata": {},
     "output_type": "execute_result"
    }
   ],
   "source": [
    "os.getcwd()"
   ]
  },
  {
   "cell_type": "code",
   "execution_count": 3,
   "metadata": {},
   "outputs": [],
   "source": [
    "os.chdir('..')"
   ]
  },
  {
   "cell_type": "code",
   "execution_count": 4,
   "metadata": {},
   "outputs": [],
   "source": [
    "os.chdir('Dataset')\n",
    "os.chdir('dev')\n",
    "train = []\n",
    "label = []\n",
    "for f in os.listdir():\n",
    "    os.chdir(f)\n",
    "    for p in os.listdir():\n",
    "        img = plt.imread(p)\n",
    "        label.append(f)\n",
    "        train.append(img)\n",
    "    os.chdir('..')\n",
    "    os.chdir('..')\n",
    "    os.chdir('Train')\n",
    "    os.chdir(f)\n",
    "    for p in os.listdir():\n",
    "        img = plt.imread(p)\n",
    "        label.append(f)\n",
    "        train.append(img)\n",
    "    os.chdir('..')\n",
    "    os.chdir('..')\n",
    "    os.chdir('dev')"
   ]
  },
  {
   "cell_type": "code",
   "execution_count": 5,
   "metadata": {},
   "outputs": [],
   "source": [
    "train = np.array(train)\n",
    "label = np.array(label)"
   ]
  },
  {
   "cell_type": "code",
   "execution_count": 6,
   "metadata": {},
   "outputs": [
    {
     "name": "stderr",
     "output_type": "stream",
     "text": [
      "/home/saquib/anaconda3/envs/tensorflow/lib/python3.5/site-packages/h5py/__init__.py:34: FutureWarning: Conversion of the second argument of issubdtype from `float` to `np.floating` is deprecated. In future, it will be treated as `np.float64 == np.dtype(float).type`.\n",
      "  from ._conv import register_converters as _register_converters\n",
      "Using TensorFlow backend.\n"
     ]
    }
   ],
   "source": [
    "from keras.models import Sequential # To initialise the nn as a sequence of layers\n",
    "from keras.layers import Convolution2D # To make the convolution layer for 2D images\n",
    "from keras.layers import MaxPooling2D # \n",
    "from keras.layers import GlobalAveragePooling2D\n",
    "from keras.layers import Flatten\n",
    "from keras.layers import Dense\n",
    "from keras.layers import Dropout\n",
    "from keras.callbacks import CSVLogger\n",
    "from keras.optimizers import RMSprop\n",
    "from keras.layers import BatchNormalization\n",
    "from keras.optimizers import Adam\n",
    "from keras.models import load_model\n",
    "from keras.callbacks import ModelCheckpoint"
   ]
  },
  {
   "cell_type": "code",
   "execution_count": 7,
   "metadata": {},
   "outputs": [
    {
     "name": "stdout",
     "output_type": "stream",
     "text": [
      "WARNING:tensorflow:From /home/saquib/anaconda3/envs/tensorflow/lib/python3.5/site-packages/keras/backend/tensorflow_backend.py:1340: calling reduce_mean (from tensorflow.python.ops.math_ops) with keep_dims is deprecated and will be removed in a future version.\n",
      "Instructions for updating:\n",
      "keep_dims is deprecated, use keepdims instead\n"
     ]
    }
   ],
   "source": [
    "csv=CSVLogger(\"train_dev_combine.log\")\n",
    "#filepath=\"weights-improvement-{epoch:02d}-{val_acc:.2f}.hdf5\"\n",
    "#checkpoint = ModelCheckpoint(filepath, monitor='val_acc', verbose=1, save_best_only=True, mode='max')\n",
    "\n",
    "\n",
    "# Initialising the CNN\n",
    "classifier = Sequential()\n",
    "\n",
    "# Step 1 - Convolution\n",
    "classifier.add(Convolution2D(32,(2,2),input_shape = (224,224,1),strides=2,name='convo1'))\n",
    "classifier.add(Convolution2D(64,(3,3), activation = 'relu',name='convo2'))\n",
    "# Step 2 - Pooling\n",
    "classifier.add(MaxPooling2D(pool_size = (2,2)))\n",
    "\n",
    "# Step 1 - Convolution\n",
    "classifier.add(Convolution2D(64,(3,3),activation = 'relu',name='convo3'))\n",
    "# Step 2 - Pooling\n",
    "classifier.add(MaxPooling2D(pool_size = (2,2)))\n",
    "\n",
    "classifier.add(GlobalAveragePooling2D())\n",
    "# As our model is still facing the problem so, we need to increase the regulization\n",
    "classifier.add(Dropout((0.5)))\n",
    "classifier.add(Dense(20, activation = 'softmax'))"
   ]
  },
  {
   "cell_type": "code",
   "execution_count": 8,
   "metadata": {},
   "outputs": [
    {
     "name": "stdout",
     "output_type": "stream",
     "text": [
      "WARNING:tensorflow:From /home/saquib/anaconda3/envs/tensorflow/lib/python3.5/site-packages/keras/backend/tensorflow_backend.py:2857: calling reduce_sum (from tensorflow.python.ops.math_ops) with keep_dims is deprecated and will be removed in a future version.\n",
      "Instructions for updating:\n",
      "keep_dims is deprecated, use keepdims instead\n"
     ]
    }
   ],
   "source": [
    "classifier.compile(optimizer = 'adam', loss = 'categorical_crossentropy', metrics = ['accuracy'])"
   ]
  },
  {
   "cell_type": "code",
   "execution_count": 16,
   "metadata": {},
   "outputs": [
    {
     "name": "stderr",
     "output_type": "stream",
     "text": [
      "/home/saquib/anaconda3/envs/tensorflow/lib/python3.5/site-packages/sklearn/cross_validation.py:41: DeprecationWarning: This module was deprecated in version 0.18 in favor of the model_selection module into which all the refactored classes and functions are moved. Also note that the interface of the new CV iterators are different from that of this module. This module will be removed in 0.20.\n",
      "  \"This module will be removed in 0.20.\", DeprecationWarning)\n"
     ]
    }
   ],
   "source": [
    "from sklearn.cross_validation import train_test_split"
   ]
  },
  {
   "cell_type": "code",
   "execution_count": 10,
   "metadata": {
    "collapsed": true
   },
   "outputs": [],
   "source": []
  },
  {
   "cell_type": "code",
   "execution_count": 9,
   "metadata": {},
   "outputs": [],
   "source": [
    "from keras import backend as K"
   ]
  },
  {
   "cell_type": "code",
   "execution_count": 10,
   "metadata": {},
   "outputs": [],
   "source": [
    "import keras "
   ]
  },
  {
   "cell_type": "code",
   "execution_count": 12,
   "metadata": {},
   "outputs": [
    {
     "data": {
      "text/plain": [
       "(2800, 224, 224)"
      ]
     },
     "execution_count": 12,
     "metadata": {},
     "output_type": "execute_result"
    }
   ],
   "source": [
    "train.shape"
   ]
  },
  {
   "cell_type": "code",
   "execution_count": 13,
   "metadata": {},
   "outputs": [
    {
     "data": {
      "text/plain": [
       "(2800,)"
      ]
     },
     "execution_count": 13,
     "metadata": {},
     "output_type": "execute_result"
    }
   ],
   "source": [
    "label.shape"
   ]
  },
  {
   "cell_type": "code",
   "execution_count": 20,
   "metadata": {},
   "outputs": [],
   "source": [
    "def start():\n",
    "    X_train,X_test,y_train,y_test = train_test_split(train,label,test_size = 0.2)\n",
    "    X_shape = X_train.shape\n",
    "    print('Scaling the data')\n",
    "    img_rows = 224\n",
    "    img_cols = 224\n",
    "    if K.image_data_format() == 'channels_first':\n",
    "        input_shape = (1, img_rows, img_cols)\n",
    "    else:\n",
    "        input_shape = (img_rows, img_cols, 1)\n",
    "    X_train_s = X_train.reshape((X_train.shape[0],) + input_shape)\n",
    "    X_train_s = X_train_s.astype('float32')\n",
    "    X_test_s = X_test.reshape((X_test.shape[0],) + input_shape)\n",
    "    X_test_s = X_test_s.astype('float32')\n",
    "    X_train_s /= 255\n",
    "    X_test_s /= 255\n",
    "    y_train = keras.utils.to_categorical(y_train, 20)\n",
    "    y_test = keras.utils.to_categorical(y_test, 20)\n",
    "    classifier.fit(X_train_s,y_train,batch_size=16,epochs=1,validation_data=(X_test_s, y_test))"
   ]
  },
  {
   "cell_type": "code",
   "execution_count": null,
   "metadata": {},
   "outputs": [
    {
     "name": "stdout",
     "output_type": "stream",
     "text": [
      "Scaling the data\n",
      "Train on 2240 samples, validate on 560 samples\n",
      "Epoch 1/1\n",
      "2240/2240 [==============================] - 209s 93ms/step - loss: 2.9993 - acc: 0.0473 - val_loss: 2.9963 - val_acc: 0.0464\n",
      "Scaling the data\n",
      "Train on 2240 samples, validate on 560 samples\n",
      "Epoch 1/1\n",
      "2240/2240 [==============================] - 208s 93ms/step - loss: 2.9974 - acc: 0.0482 - val_loss: 2.9975 - val_acc: 0.0357\n",
      "Scaling the data\n",
      "Train on 2240 samples, validate on 560 samples\n",
      "Epoch 1/1\n",
      "2240/2240 [==============================] - 205s 92ms/step - loss: 2.9914 - acc: 0.0585 - val_loss: 2.9849 - val_acc: 0.0679\n",
      "Scaling the data\n",
      "Train on 2240 samples, validate on 560 samples\n",
      "Epoch 1/1\n",
      "2240/2240 [==============================] - 206s 92ms/step - loss: 2.9685 - acc: 0.0674 - val_loss: 3.0047 - val_acc: 0.0661\n",
      "Scaling the data\n",
      "Train on 2240 samples, validate on 560 samples\n",
      "Epoch 1/1\n",
      "2240/2240 [==============================] - 291s 130ms/step - loss: 2.9636 - acc: 0.0670 - val_loss: 2.9436 - val_acc: 0.0893\n",
      "Scaling the data\n",
      "Train on 2240 samples, validate on 560 samples\n",
      "Epoch 1/1\n",
      "2240/2240 [==============================] - 221s 99ms/step - loss: 2.9462 - acc: 0.0759 - val_loss: 2.9332 - val_acc: 0.0964\n",
      "Scaling the data\n",
      "Train on 2240 samples, validate on 560 samples\n",
      "Epoch 1/1\n",
      "2160/2240 [===========================>..] - ETA: 6s - loss: 2.9378 - acc: 0.0731"
     ]
    }
   ],
   "source": [
    "for i in range(10):\n",
    "    start()"
   ]
  }
 ],
 "metadata": {
  "kernelspec": {
   "display_name": "Python 3",
   "language": "python",
   "name": "python3"
  },
  "language_info": {
   "codemirror_mode": {
    "name": "ipython",
    "version": 3
   },
   "file_extension": ".py",
   "mimetype": "text/x-python",
   "name": "python",
   "nbconvert_exporter": "python",
   "pygments_lexer": "ipython3",
   "version": "3.5.4"
  }
 },
 "nbformat": 4,
 "nbformat_minor": 2
}
