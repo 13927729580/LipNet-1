{
 "cells": [
  {
   "cell_type": "code",
   "execution_count": 1,
   "metadata": {},
   "outputs": [
    {
     "name": "stderr",
     "output_type": "stream",
     "text": [
      "Using TensorFlow backend.\n"
     ]
    }
   ],
   "source": [
    "import os\n",
    "import numpy as np\n",
    "from keras.models import Sequential # To initialise the nn as a sequence of layers\n",
    "from keras.layers import Convolution2D # To make the convolution layer for 2D images\n",
    "from keras.layers import MaxPooling2D # \n",
    "from keras.layers import GlobalAveragePooling2D\n",
    "from keras.layers import Flatten\n",
    "from keras.layers import Dense\n",
    "from keras.layers import Dropout\n",
    "from keras.callbacks import CSVLogger\n",
    "from keras.optimizers import RMSprop\n",
    "from keras.layers import BatchNormalization\n",
    "from keras.optimizers import Adam\n",
    "from keras.models import load_model\n",
    "from keras.callbacks import ModelCheckpoint\n",
    "\n",
    "csv=CSVLogger(\"10_encoding.log\")\n",
    "#filepath=\"weights-improvement-{epoch:02d}-{val_acc:.2f}.hdf5\"\n",
    "#checkpoint = ModelCheckpoint(filepath, monitor='val_acc', verbose=1, save_best_only=True, mode='max')\n",
    "\n",
    "\n",
    "# Initialising the CNN\n",
    "classifier = Sequential()\n",
    "\n",
    "# Step 1 - Convolution\n",
    "classifier.add(Convolution2D(32,(2,2),input_shape = (224,224,1),strides=2,name='convo1'))\n",
    "classifier.add(Convolution2D(64,(3,3), activation = 'relu',name='convo2'))\n",
    "# Step 2 - Pooling\n",
    "classifier.add(MaxPooling2D(pool_size = (2,2)))\n",
    "\n",
    "# Step 1 - Convolution\n",
    "classifier.add(Convolution2D(64,(3,3),activation = 'relu',name='convo3'))\n",
    "# Step 2 - Pooling\n",
    "classifier.add(MaxPooling2D(pool_size = (2,2)))\n",
    "\n",
    "classifier.add(GlobalAveragePooling2D())\n",
    "# As our model is still facing the problem so, we need to increase the regulization\n",
    "classifier.add(Dropout((0.5)))\n",
    "classifier.add(Dense(20, activation = 'softmax'))"
   ]
  },
  {
   "cell_type": "code",
   "execution_count": 2,
   "metadata": {},
   "outputs": [
    {
     "name": "stdout",
     "output_type": "stream",
     "text": [
      "Found 2600 images belonging to 20 classes.\n",
      "Found 200 images belonging to 20 classes.\n"
     ]
    }
   ],
   "source": [
    "\n",
    "classifier.compile(optimizer = 'adadelta', loss = 'categorical_crossentropy', metrics = ['accuracy'])\n",
    "\n",
    "from keras.preprocessing.image import ImageDataGenerator\n",
    "\n",
    "train_datagen = ImageDataGenerator(rescale=1./255)\n",
    "\n",
    "test_datagen = ImageDataGenerator(rescale=1./255)\n",
    "\n",
    "curr_path = os.getcwd()\n",
    "basefolder = os.path.dirname(curr_path)\n",
    "\n",
    "train_folder = os.path.join(basefolder, \"Dataset\\\\Train\")\n",
    "test_folder = os.path.join(basefolder, \"Dataset\\\\dev\")\n",
    "\"\"\"\n",
    "# Changes for linux\n",
    "train_folder = os.path.join(basefolder, \"Dataset/Train\")\n",
    "test_folder = os.path.join(basefolder, \"Dataset/dev\")\n",
    "\"\"\"\n",
    "train_set = train_datagen.flow_from_directory(train_folder,target_size=(224, 224),batch_size=64,class_mode='categorical',color_mode='grayscale')\n",
    "\n",
    "test_set = test_datagen.flow_from_directory(test_folder,target_size=(224, 224),batch_size=64,class_mode='categorical',color_mode='grayscale')"
   ]
  },
  {
   "cell_type": "code",
   "execution_count": 3,
   "metadata": {},
   "outputs": [
    {
     "name": "stdout",
     "output_type": "stream",
     "text": [
      "Epoch 1/30\n",
      "478s - loss: 2.9708 - acc: 0.0681 - val_loss: 2.9234 - val_acc: 0.1050\n",
      "Epoch 2/30\n",
      "470s - loss: 2.8475 - acc: 0.1066 - val_loss: 2.8866 - val_acc: 0.1104\n",
      "Epoch 3/30\n",
      "470s - loss: 2.7097 - acc: 0.1475 - val_loss: 2.8521 - val_acc: 0.1150\n",
      "Epoch 4/30\n",
      "470s - loss: 2.5535 - acc: 0.1926 - val_loss: 2.7670 - val_acc: 0.1552\n",
      "Epoch 5/30\n",
      "470s - loss: 2.4025 - acc: 0.2319 - val_loss: 2.7065 - val_acc: 0.1202\n",
      "Epoch 6/30\n",
      "470s - loss: 2.2642 - acc: 0.2707 - val_loss: 2.7356 - val_acc: 0.1398\n",
      "Epoch 7/30\n",
      "469s - loss: 2.1315 - acc: 0.3090 - val_loss: 2.6402 - val_acc: 0.2103\n",
      "Epoch 8/30\n",
      "469s - loss: 2.0082 - acc: 0.3465 - val_loss: 2.6213 - val_acc: 0.2098\n",
      "Epoch 9/30\n",
      "470s - loss: 1.9011 - acc: 0.3777 - val_loss: 2.6565 - val_acc: 0.2297\n",
      "Epoch 10/30\n",
      "468s - loss: 1.8046 - acc: 0.4063 - val_loss: 2.5816 - val_acc: 0.2196\n",
      "Epoch 11/30\n",
      "467s - loss: 1.7092 - acc: 0.4344 - val_loss: 2.6124 - val_acc: 0.2450\n",
      "Epoch 12/30\n",
      "467s - loss: 1.6170 - acc: 0.4645 - val_loss: 2.7752 - val_acc: 0.2403\n",
      "Epoch 13/30\n",
      "467s - loss: 1.5434 - acc: 0.4867 - val_loss: 2.8970 - val_acc: 0.2599\n",
      "Epoch 14/30\n",
      "467s - loss: 1.4724 - acc: 0.5108 - val_loss: 2.6820 - val_acc: 0.2800\n",
      "Epoch 15/30\n",
      "466s - loss: 1.4143 - acc: 0.5276 - val_loss: 2.7720 - val_acc: 0.2906\n",
      "Epoch 16/30\n",
      "467s - loss: 1.3513 - acc: 0.5471 - val_loss: 2.7425 - val_acc: 0.2754\n",
      "Epoch 17/30\n",
      "466s - loss: 1.2954 - acc: 0.5641 - val_loss: 2.9929 - val_acc: 0.2951\n",
      "Epoch 18/30\n",
      "466s - loss: 1.2527 - acc: 0.5770 - val_loss: 2.9146 - val_acc: 0.2753\n",
      "Epoch 19/30\n",
      "465s - loss: 1.2047 - acc: 0.5924 - val_loss: 3.0675 - val_acc: 0.2800\n",
      "Epoch 20/30\n",
      "466s - loss: 1.1636 - acc: 0.6054 - val_loss: 2.8755 - val_acc: 0.2799\n",
      "Epoch 21/30\n",
      "466s - loss: 1.1280 - acc: 0.6181 - val_loss: 2.7485 - val_acc: 0.3155\n",
      "Epoch 22/30\n",
      "465s - loss: 1.0908 - acc: 0.6294 - val_loss: 2.7266 - val_acc: 0.2900\n",
      "Epoch 23/30\n",
      "465s - loss: 1.0575 - acc: 0.6385 - val_loss: 2.7818 - val_acc: 0.2956\n",
      "Epoch 24/30\n",
      "465s - loss: 1.0219 - acc: 0.6520 - val_loss: 2.6101 - val_acc: 0.3299\n",
      "Epoch 25/30\n",
      "464s - loss: 0.9939 - acc: 0.6608 - val_loss: 3.0056 - val_acc: 0.2857\n",
      "Epoch 26/30\n",
      "464s - loss: 0.9666 - acc: 0.6701 - val_loss: 3.1056 - val_acc: 0.3348\n",
      "Epoch 27/30\n",
      "464s - loss: 0.9392 - acc: 0.6794 - val_loss: 3.0785 - val_acc: 0.3345\n",
      "Epoch 28/30\n",
      "464s - loss: 0.9140 - acc: 0.6867 - val_loss: 3.0962 - val_acc: 0.3301\n",
      "Epoch 29/30\n",
      "463s - loss: 0.8942 - acc: 0.6929 - val_loss: 2.9415 - val_acc: 0.3050\n",
      "Epoch 30/30\n",
      "463s - loss: 0.8744 - acc: 0.7009 - val_loss: 3.0384 - val_acc: 0.3502\n"
     ]
    }
   ],
   "source": [
    "history = classifier.fit_generator(train_set,steps_per_epoch=2600,epochs=30,validation_data=test_set,validation_steps=200,callbacks=[csv],verbose=2)"
   ]
  },
  {
   "cell_type": "code",
   "execution_count": 4,
   "metadata": {
    "collapsed": true
   },
   "outputs": [],
   "source": [
    "classifier.save(\"10_encoding.h5\")"
   ]
  },
  {
   "cell_type": "code",
   "execution_count": null,
   "metadata": {
    "collapsed": true
   },
   "outputs": [],
   "source": []
  }
 ],
 "metadata": {
  "kernelspec": {
   "display_name": "Python [conda env:tensorflow-gpu]",
   "language": "python",
   "name": "conda-env-tensorflow-gpu-py"
  },
  "language_info": {
   "codemirror_mode": {
    "name": "ipython",
    "version": 3
   },
   "file_extension": ".py",
   "mimetype": "text/x-python",
   "name": "python",
   "nbconvert_exporter": "python",
   "pygments_lexer": "ipython3",
   "version": "3.6.3"
  }
 },
 "nbformat": 4,
 "nbformat_minor": 2
}
